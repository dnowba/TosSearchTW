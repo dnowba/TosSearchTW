{
 "cells": [
  {
   "cell_type": "code",
   "execution_count": 1,
   "metadata": {
    "collapsed": true
   },
   "outputs": [],
   "source": [
    "%load_ext autoreload\n",
    "%autoreload 2\n",
    "from dictionary_gen import DictionaryGenerator\n",
    "import pandas as pd"
   ]
  },
  {
   "cell_type": "code",
   "execution_count": 24,
   "metadata": {},
   "outputs": [],
   "source": [
    "dictgen = DictionaryGenerator('../tosneet_scraper/output/', './langmap/merged.tsv')"
   ]
  },
  {
   "cell_type": "code",
   "execution_count": 25,
   "metadata": {
    "scrolled": true
   },
   "outputs": [
    {
     "name": "stdout",
     "output_type": "stream",
     "text": [
      "Start processing..\n"
     ]
    }
   ],
   "source": [
    "df = dictgen.run()['items']"
   ]
  },
  {
   "cell_type": "code",
   "execution_count": 26,
   "metadata": {},
   "outputs": [
    {
     "data": {
      "text/html": [
       "<div>\n",
       "<style scoped>\n",
       "    .dataframe tbody tr th:only-of-type {\n",
       "        vertical-align: middle;\n",
       "    }\n",
       "\n",
       "    .dataframe tbody tr th {\n",
       "        vertical-align: top;\n",
       "    }\n",
       "\n",
       "    .dataframe thead th {\n",
       "        text-align: right;\n",
       "    }\n",
       "</style>\n",
       "<table border=\"1\" class=\"dataframe\">\n",
       "  <thead>\n",
       "    <tr style=\"text-align: right;\">\n",
       "      <th></th>\n",
       "      <th>ClassID</th>\n",
       "      <th>Grade</th>\n",
       "      <th>Name</th>\n",
       "      <th>Req. Lvl</th>\n",
       "      <th>Type</th>\n",
       "      <th>img</th>\n",
       "      <th>category</th>\n",
       "      <th>tw</th>\n",
       "      <th>en</th>\n",
       "      <th>korean</th>\n",
       "    </tr>\n",
       "  </thead>\n",
       "  <tbody>\n",
       "    <tr>\n",
       "      <th>0</th>\n",
       "      <td>10000</td>\n",
       "      <td>White</td>\n",
       "      <td>Empty_helmet</td>\n",
       "      <td>NaN</td>\n",
       "      <td>Helmet</td>\n",
       "      <td>/images/icon_missing.png</td>\n",
       "      <td>items</td>\n",
       "      <td>NaN</td>\n",
       "      <td>Empty_helmet</td>\n",
       "      <td>없음_helmet</td>\n",
       "    </tr>\n",
       "    <tr>\n",
       "      <th>1</th>\n",
       "      <td>10001</td>\n",
       "      <td>White</td>\n",
       "      <td>Murmillo Helmet</td>\n",
       "      <td>NaN</td>\n",
       "      <td>Helmet</td>\n",
       "      <td>/images/weapon/icon_item_sword_26.png</td>\n",
       "      <td>items</td>\n",
       "      <td>角鬥士頭盔</td>\n",
       "      <td>Murmillo Helmet</td>\n",
       "      <td>무르밀로 헬멧</td>\n",
       "    </tr>\n",
       "    <tr>\n",
       "      <th>2</th>\n",
       "      <td>10002</td>\n",
       "      <td>White</td>\n",
       "      <td>Plague Doctor Helmet</td>\n",
       "      <td>NaN</td>\n",
       "      <td>Helmet</td>\n",
       "      <td>/images/weapon/icon_item_sword_26.png</td>\n",
       "      <td>items</td>\n",
       "      <td>瘟疫醫生頭盔</td>\n",
       "      <td>Plague Doctor Helmet</td>\n",
       "      <td>플레이그닥터 헬멧</td>\n",
       "    </tr>\n",
       "    <tr>\n",
       "      <th>3</th>\n",
       "      <td>11000</td>\n",
       "      <td>White</td>\n",
       "      <td>Empty_armband</td>\n",
       "      <td>NaN</td>\n",
       "      <td>Armband</td>\n",
       "      <td>/images/icon_missing.png</td>\n",
       "      <td>items</td>\n",
       "      <td>無_armband</td>\n",
       "      <td>Empty_armband</td>\n",
       "      <td>없음_armband</td>\n",
       "    </tr>\n",
       "    <tr>\n",
       "      <th>4</th>\n",
       "      <td>11101</td>\n",
       "      <td>White</td>\n",
       "      <td>Red Armband</td>\n",
       "      <td>40.0</td>\n",
       "      <td>Armband</td>\n",
       "      <td>/images/acc/icon_item_artefact_armband.png</td>\n",
       "      <td>items</td>\n",
       "      <td>赤紅臂環</td>\n",
       "      <td>Red Armband</td>\n",
       "      <td>붉은 암밴드</td>\n",
       "    </tr>\n",
       "  </tbody>\n",
       "</table>\n",
       "</div>"
      ],
      "text/plain": [
       "   ClassID  Grade                  Name  Req. Lvl     Type  \\\n",
       "0    10000  White          Empty_helmet       NaN   Helmet   \n",
       "1    10001  White       Murmillo Helmet       NaN   Helmet   \n",
       "2    10002  White  Plague Doctor Helmet       NaN   Helmet   \n",
       "3    11000  White         Empty_armband       NaN  Armband   \n",
       "4    11101  White           Red Armband      40.0  Armband   \n",
       "\n",
       "                                          img category         tw  \\\n",
       "0                    /images/icon_missing.png    items        NaN   \n",
       "1       /images/weapon/icon_item_sword_26.png    items      角鬥士頭盔   \n",
       "2       /images/weapon/icon_item_sword_26.png    items     瘟疫醫生頭盔   \n",
       "3                    /images/icon_missing.png    items  無_armband   \n",
       "4  /images/acc/icon_item_artefact_armband.png    items       赤紅臂環   \n",
       "\n",
       "                     en      korean  \n",
       "0          Empty_helmet   없음_helmet  \n",
       "1       Murmillo Helmet     무르밀로 헬멧  \n",
       "2  Plague Doctor Helmet   플레이그닥터 헬멧  \n",
       "3         Empty_armband  없음_armband  \n",
       "4           Red Armband      붉은 암밴드  "
      ]
     },
     "execution_count": 26,
     "metadata": {},
     "output_type": "execute_result"
    }
   ],
   "source": [
    "df.head()"
   ]
  },
  {
   "cell_type": "code",
   "execution_count": 27,
   "metadata": {
    "collapsed": true
   },
   "outputs": [],
   "source": [
    "df.head().to_json(\"test.json\", orient='records')"
   ]
  },
  {
   "cell_type": "code",
   "execution_count": null,
   "metadata": {
    "collapsed": true,
    "scrolled": true
   },
   "outputs": [],
   "source": [
    "dictgen.export_dictionary()"
   ]
  },
  {
   "cell_type": "markdown",
   "metadata": {},
   "source": [
    "## Initial test"
   ]
  },
  {
   "cell_type": "code",
   "execution_count": null,
   "metadata": {
    "collapsed": true
   },
   "outputs": [],
   "source": [
    "df1 = dict_.readjson('items.json')\n",
    "df1.tail()"
   ]
  },
  {
   "cell_type": "code",
   "execution_count": null,
   "metadata": {
    "collapsed": true,
    "scrolled": true
   },
   "outputs": [],
   "source": [
    "df2 = dict_.read_langmap()\n",
    "df2.tail()"
   ]
  },
  {
   "cell_type": "code",
   "execution_count": null,
   "metadata": {
    "collapsed": true
   },
   "outputs": [],
   "source": [
    "pd.merge(df1, df2, left_on='Name', right_on='en', how='inner')"
   ]
  },
  {
   "cell_type": "code",
   "execution_count": null,
   "metadata": {
    "collapsed": true
   },
   "outputs": [],
   "source": []
  }
 ],
 "metadata": {
  "kernelspec": {
   "display_name": "Python 3",
   "language": "python",
   "name": "python3"
  }
 },
 "nbformat": 4,
 "nbformat_minor": 2
}
