{
 "cells": [
  {
   "cell_type": "markdown",
   "metadata": {},
   "source": [
    "# Scrape Shell Test"
   ]
  },
  {
   "cell_type": "markdown",
   "metadata": {},
   "source": [
    "This notebook is used to serve as funtions of scrape shell"
   ]
  },
  {
   "cell_type": "markdown",
   "metadata": {},
   "source": [
    "## Get page Response"
   ]
  },
  {
   "cell_type": "code",
   "execution_count": 15,
   "metadata": {
    "collapsed": true
   },
   "outputs": [],
   "source": [
    "import requests\n",
    "from scrapy.http import TextResponse\n",
    "\n",
    "r = requests.get('https://tos.neet.tv/skills?f=1')\n",
    "res = TextResponse(r.url, body=r.text, encoding='utf-8')"
   ]
  },
  {
   "cell_type": "markdown",
   "metadata": {},
   "source": [
    "## Test by css"
   ]
  },
  {
   "cell_type": "code",
   "execution_count": 7,
   "metadata": {},
   "outputs": [
    {
     "data": {
      "text/plain": [
       "'<tr>\\n      <td><a href=\"/zones/101\">101</a></td>\\n      <td>Test Zone</td>\\n      <td>0</td>\\n      <td></td>\\n      <td></td>\\n      <td></td>\\n      <td class=\"st\">테스트존</td>\\n      <td class=\"st\">test_zone</td>\\n    </tr>'"
      ]
     },
     "execution_count": 7,
     "metadata": {},
     "output_type": "execute_result"
    }
   ],
   "source": [
    "rows = res.css('.results-table > tbody > tr')\n",
    "rows[0].extract()"
   ]
  },
  {
   "cell_type": "code",
   "execution_count": 23,
   "metadata": {},
   "outputs": [
    {
     "data": {
      "text/plain": [
       "['img', 'ClassID', 'Name', 'Class', 'Circle', 'Max. Level', 'Type']"
      ]
     },
     "execution_count": 23,
     "metadata": {},
     "output_type": "execute_result"
    }
   ],
   "source": [
    "thead = res.css('.results-table > thead > tr')[0]\n",
    "heads = [tr.xpath('text()').extract_first() for tr in thead.css('th')]\n",
    "heads = [h if h else 'img' for h in heads]\n",
    "heads"
   ]
  },
  {
   "cell_type": "code",
   "execution_count": 18,
   "metadata": {},
   "outputs": [
    {
     "data": {
      "text/plain": [
       "['<th></th>',\n",
       " '<th>ClassID</th>',\n",
       " '<th>Name</th>',\n",
       " '<th>Class</th>',\n",
       " '<th>Circle</th>',\n",
       " '<th>Max. Level</th>',\n",
       " '<th>Type</th>']"
      ]
     },
     "execution_count": 18,
     "metadata": {},
     "output_type": "execute_result"
    }
   ],
   "source": [
    "thead = res.css('.results-table > thead > tr')[0]\n",
    "heads = [tr.extract() for tr in thead.css('th')]\n",
    "heads"
   ]
  },
  {
   "cell_type": "code",
   "execution_count": 13,
   "metadata": {},
   "outputs": [
    {
     "name": "stdout",
     "output_type": "stream",
     "text": [
      "110\n",
      "{'ClassID': '110', 'Name': 'Guild Hangout', 'Level': '0', 'Type': 'City', 'Rank': None, 'Warp': None, 'KR Name': '길드 아지트', 'ClassName': 'guildhouse'}\n"
     ]
    }
   ],
   "source": [
    "def parse_row(row): \n",
    "    data = {}\n",
    "    for i, head in enumerate(heads):\n",
    "        data[head] = row.css('td:nth-child({})::text'.format(i + 1))\n",
    "    data['ClassID'] = row.css('td a::text')\n",
    "    data = {key: value.extract_first() for key, value in data.items()}\n",
    "    print(data)\n",
    "        \n",
    "        \n",
    "parse_row(rows[5])"
   ]
  },
  {
   "cell_type": "markdown",
   "metadata": {},
   "source": [
    "## Find Page Control"
   ]
  },
  {
   "cell_type": "code",
   "execution_count": 85,
   "metadata": {
    "scrolled": true
   },
   "outputs": [
    {
     "data": {
      "text/plain": [
       "['/items?f=1&page=2']"
      ]
     },
     "execution_count": 85,
     "metadata": {},
     "output_type": "execute_result"
    }
   ],
   "source": [
    "#res.css('.pagination').xpath(\".//a[text()='›']\").()\n",
    "\n",
    "next_page = res.css('.pagination').xpath(\".//a[text()='›']/@href\").extract()\n",
    "next_page"
   ]
  },
  {
   "cell_type": "code",
   "execution_count": null,
   "metadata": {
    "collapsed": true
   },
   "outputs": [],
   "source": []
  }
 ],
 "metadata": {
  "kernelspec": {
   "display_name": "Python 3",
   "language": "python",
   "name": "python3"
  },
  "language_info": {
   "codemirror_mode": {
    "name": "ipython",
    "version": 3
   },
   "file_extension": ".py",
   "mimetype": "text/x-python",
   "name": "python",
   "nbconvert_exporter": "python",
   "pygments_lexer": "ipython3",
   "version": "3.6.2"
  }
 },
 "nbformat": 4,
 "nbformat_minor": 2
}
