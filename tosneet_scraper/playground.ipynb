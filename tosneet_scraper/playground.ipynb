{
 "cells": [
  {
   "cell_type": "code",
   "execution_count": 27,
   "metadata": {
    "collapsed": true
   },
   "outputs": [],
   "source": [
    "from bs4 import BeautifulSoup"
   ]
  },
  {
   "cell_type": "code",
   "execution_count": 52,
   "metadata": {
    "collapsed": true
   },
   "outputs": [],
   "source": [
    "import requests\n",
    "from scrapy.http import TextResponse\n",
    "\n",
    "r = requests.get('https://tos.neet.tv/items?f=1')\n",
    "res = TextResponse(r.url, body=r.text, encoding='utf-8')"
   ]
  },
  {
   "cell_type": "code",
   "execution_count": 13,
   "metadata": {},
   "outputs": [
    {
     "data": {
      "text/plain": [
       "'<tr>\\n      <td><img alt=\"\" src=\"/images/icon_missing.png\" class=\"icon-64\"></td>\\n      <td><a data-tip=\".Items.ttCb\" data-clsid=\"10000\" href=\"/items/10000\">10000</a></td>\\n      <td>Empty_helmet</td>\\n      \\n      <td>Helmet</td>\\n      <td><span data-tip=\"White\" class=\"item-grade item-grade-1\"></span></td>\\n      <td></td>\\n    </tr>'"
      ]
     },
     "execution_count": 13,
     "metadata": {},
     "output_type": "execute_result"
    }
   ],
   "source": [
    "row = res.css('.results-table > tbody > tr')[0]\n",
    "row.extract()"
   ]
  },
  {
   "cell_type": "code",
   "execution_count": 31,
   "metadata": {},
   "outputs": [
    {
     "data": {
      "text/plain": [
       "['img', 'ClassID', 'Name', 'Type', 'Grade', 'Req. Lvl']"
      ]
     },
     "execution_count": 31,
     "metadata": {},
     "output_type": "execute_result"
    }
   ],
   "source": [
    "thead = res.css('.results-table > thead > tr')[0]\n",
    "heads = ['img'] + [tr.extract() for tr in thead.css('th::text')]\n",
    "heads"
   ]
  },
  {
   "cell_type": "code",
   "execution_count": 26,
   "metadata": {},
   "outputs": [
    {
     "data": {
      "text/plain": [
       "[<Selector xpath='descendant-or-self::th/text()' data='ClassID'>,\n",
       " <Selector xpath='descendant-or-self::th/text()' data='Name'>,\n",
       " <Selector xpath='descendant-or-self::th/text()' data='Type'>,\n",
       " <Selector xpath='descendant-or-self::th/text()' data='Grade'>,\n",
       " <Selector xpath='descendant-or-self::th/text()' data='Req. Lvl'>]"
      ]
     },
     "execution_count": 26,
     "metadata": {},
     "output_type": "execute_result"
    }
   ],
   "source": [
    "thead.css('th::text')"
   ]
  },
  {
   "cell_type": "code",
   "execution_count": 50,
   "metadata": {},
   "outputs": [
    {
     "name": "stdout",
     "output_type": "stream",
     "text": [
      "{'img': '/images/icon_missing.png', 'ClassID': '10000', 'Name': 'Empty_helmet', 'Type': 'Helmet', 'Grade': 'White', 'Req. Lvl': None}\n"
     ]
    }
   ],
   "source": [
    "def parse_row(row): \n",
    "    data = {\n",
    "        'img': row.css('td img::attr(src)'),\n",
    "        'ClassID': row.css('td a::text'),\n",
    "        'Name': row.css('td:nth-child(3)::text'),\n",
    "        'Type': row.css('td:nth-child(4)::text'),\n",
    "        'Grade': row.css('td .item-grade::attr(data-tip)'),\n",
    "        'Req. Lvl': row.css('td:nth-child(6)::text')\n",
    "    }\n",
    "    data = {key: value.extract_first() for key, value in data.items()}\n",
    "    # data[\n",
    "    \n",
    "    \n",
    "    print(data)\n",
    "        \n",
    "        \n",
    "parse_row(row)"
   ]
  },
  {
   "cell_type": "markdown",
   "metadata": {},
   "source": [
    "## Find Page Control"
   ]
  },
  {
   "cell_type": "code",
   "execution_count": 85,
   "metadata": {
    "scrolled": true
   },
   "outputs": [
    {
     "data": {
      "text/plain": [
       "['/items?f=1&page=2']"
      ]
     },
     "execution_count": 85,
     "metadata": {},
     "output_type": "execute_result"
    }
   ],
   "source": [
    "#res.css('.pagination').xpath(\".//a[text()='›']\").()\n",
    "\n",
    "next_page = res.css('.pagination').xpath(\".//a[text()='›']/@href\").extract()\n",
    "next_page"
   ]
  },
  {
   "cell_type": "code",
   "execution_count": null,
   "metadata": {
    "collapsed": true
   },
   "outputs": [],
   "source": []
  }
 ],
 "metadata": {
  "kernelspec": {
   "display_name": "Python 3",
   "language": "python",
   "name": "python3"
  },
  "language_info": {
   "codemirror_mode": {
    "name": "ipython",
    "version": 3
   },
   "file_extension": ".py",
   "mimetype": "text/x-python",
   "name": "python",
   "nbconvert_exporter": "python",
   "pygments_lexer": "ipython3",
   "version": "3.6.2"
  }
 },
 "nbformat": 4,
 "nbformat_minor": 2
}
